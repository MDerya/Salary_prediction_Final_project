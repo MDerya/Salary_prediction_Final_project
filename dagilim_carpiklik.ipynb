{
 "cells": [
  {
   "cell_type": "code",
   "execution_count": 22,
   "id": "be5e4e71-d83b-49a0-b675-bea33459ae94",
   "metadata": {},
   "outputs": [],
   "source": [
    "import numpy as np\n",
    "import pandas as pd\n",
    "# from pandas import Series, DataFrame \n",
    "import seaborn as sns\n",
    "from matplotlib import pyplot as plt\n",
    "from scipy import stats\n",
    "from sklearn.preprocessing import LabelEncoder, OneHotEncoder\n",
    "\n",
    "import warnings\n",
    "from sklearn import metrics\n",
    "from sklearn.ensemble import RandomForestClassifier, GradientBoostingClassifier, VotingClassifier\n",
    "from sklearn.model_selection import cross_validate, train_test_split, GridSearchCV, cross_val_score, RandomizedSearchCV, validation_curve\n",
    "from sklearn.metrics import confusion_matrix, ConfusionMatrixDisplay\n",
    "# from xgboost import XGBClassifier\n",
    "import lightgbm as ltb\n",
    "# from catboost import CatBoostClassifier\n",
    "from sklearn.linear_model import LogisticRegression\n",
    "from statsmodels.stats.outliers_influence import variance_inflation_factor\n",
    "from catboost import CatBoostRegressor\n",
    "from lightgbm import LGBMRegressor\n",
    "from sklearn.ensemble import RandomForestRegressor, GradientBoostingRegressor\n",
    "from sklearn.exceptions import ConvergenceWarning\n",
    "from sklearn.linear_model import LinearRegression, Ridge, Lasso, ElasticNet\n",
    "from sklearn.neighbors import KNeighborsRegressor\n",
    "from sklearn.svm import SVR\n",
    "from sklearn.tree import DecisionTreeRegressor\n",
    "from xgboost import XGBRegressor\n",
    "from sklearn.preprocessing import LabelEncoder\n",
    "from sklearn.metrics import mean_squared_error, r2_score\n",
    "from sklearn.linear_model import LinearRegression\n",
    "import joblib\n",
    "from lightgbm import LGBMClassifier\n",
    "from sklearn.ensemble import RandomForestClassifier, GradientBoostingClassifier, VotingClassifier, AdaBoostClassifier\n",
    "from sklearn.linear_model import LogisticRegression\n",
    "from sklearn.neighbors import KNeighborsClassifier\n",
    "from sklearn.preprocessing import StandardScaler\n",
    "from sklearn.svm import SVC\n",
    "from sklearn.tree import DecisionTreeClassifier\n",
    "from xgboost import XGBClassifier\n",
    "\n",
    "\n",
    "warnings.simplefilter(action='ignore', category=FutureWarning)\n",
    "warnings.simplefilter(\"ignore\", category=ConvergenceWarning)\n",
    "pd.set_option('display.width', 10000)"
   ]
  },
  {
   "cell_type": "code",
   "execution_count": 15,
   "id": "06918347-4e14-4388-ba05-6c86c9c6c5b1",
   "metadata": {},
   "outputs": [],
   "source": [
    "df=pd.read_csv(\"d_encoded.csv\")"
   ]
  },
  {
   "cell_type": "code",
   "execution_count": 16,
   "id": "3b6a8046-dba4-4185-8dc6-f7b46d991f0a",
   "metadata": {},
   "outputs": [
    {
     "data": {
      "text/html": [
       "<div>\n",
       "<style scoped>\n",
       "    .dataframe tbody tr th:only-of-type {\n",
       "        vertical-align: middle;\n",
       "    }\n",
       "\n",
       "    .dataframe tbody tr th {\n",
       "        vertical-align: top;\n",
       "    }\n",
       "\n",
       "    .dataframe thead th {\n",
       "        text-align: right;\n",
       "    }\n",
       "</style>\n",
       "<table border=\"1\" class=\"dataframe\">\n",
       "  <thead>\n",
       "    <tr style=\"text-align: right;\">\n",
       "      <th></th>\n",
       "      <th>LEVEL</th>\n",
       "      <th>EXPERIENCE</th>\n",
       "      <th>SALARY_AVG_TL</th>\n",
       "      <th>POSITION_CTO</th>\n",
       "      <th>POSITION_DATA SCIENTIST</th>\n",
       "      <th>POSITION_DATABASE ADMIN</th>\n",
       "      <th>POSITION_DEVOPS ENGINEER</th>\n",
       "      <th>POSITION_EMBEDDED SOFTWARE DEVELOPER</th>\n",
       "      <th>POSITION_FRONT-END DEVELOPER</th>\n",
       "      <th>POSITION_FULL STACK DEVELOPER</th>\n",
       "      <th>...</th>\n",
       "      <th>COMPANY_Startup</th>\n",
       "      <th>COMPANY_Yazılım &amp; Teknoloji</th>\n",
       "      <th>WORK_TYPE_Geçici Remote</th>\n",
       "      <th>WORK_TYPE_Hibrit</th>\n",
       "      <th>WORK_TYPE_Ofis</th>\n",
       "      <th>WORK_TYPE_Remote</th>\n",
       "      <th>CITY_yurt_ici</th>\n",
       "      <th>CURRENCY_£ - Sterlin</th>\n",
       "      <th>CURRENCY_€ - Euro</th>\n",
       "      <th>CURRENCY_₺ - Türk Lirası</th>\n",
       "    </tr>\n",
       "  </thead>\n",
       "  <tbody>\n",
       "    <tr>\n",
       "      <th>0</th>\n",
       "      <td>1</td>\n",
       "      <td>2</td>\n",
       "      <td>15499</td>\n",
       "      <td>0</td>\n",
       "      <td>0</td>\n",
       "      <td>0</td>\n",
       "      <td>0</td>\n",
       "      <td>0</td>\n",
       "      <td>0</td>\n",
       "      <td>0</td>\n",
       "      <td>...</td>\n",
       "      <td>1</td>\n",
       "      <td>0</td>\n",
       "      <td>0</td>\n",
       "      <td>1</td>\n",
       "      <td>0</td>\n",
       "      <td>0</td>\n",
       "      <td>1</td>\n",
       "      <td>0</td>\n",
       "      <td>0</td>\n",
       "      <td>1</td>\n",
       "    </tr>\n",
       "    <tr>\n",
       "      <th>1</th>\n",
       "      <td>0</td>\n",
       "      <td>0</td>\n",
       "      <td>8499</td>\n",
       "      <td>0</td>\n",
       "      <td>0</td>\n",
       "      <td>0</td>\n",
       "      <td>0</td>\n",
       "      <td>0</td>\n",
       "      <td>1</td>\n",
       "      <td>0</td>\n",
       "      <td>...</td>\n",
       "      <td>1</td>\n",
       "      <td>0</td>\n",
       "      <td>0</td>\n",
       "      <td>1</td>\n",
       "      <td>0</td>\n",
       "      <td>0</td>\n",
       "      <td>1</td>\n",
       "      <td>0</td>\n",
       "      <td>0</td>\n",
       "      <td>1</td>\n",
       "    </tr>\n",
       "    <tr>\n",
       "      <th>2</th>\n",
       "      <td>1</td>\n",
       "      <td>1</td>\n",
       "      <td>15499</td>\n",
       "      <td>0</td>\n",
       "      <td>0</td>\n",
       "      <td>0</td>\n",
       "      <td>0</td>\n",
       "      <td>0</td>\n",
       "      <td>0</td>\n",
       "      <td>0</td>\n",
       "      <td>...</td>\n",
       "      <td>0</td>\n",
       "      <td>0</td>\n",
       "      <td>0</td>\n",
       "      <td>0</td>\n",
       "      <td>0</td>\n",
       "      <td>1</td>\n",
       "      <td>1</td>\n",
       "      <td>0</td>\n",
       "      <td>0</td>\n",
       "      <td>1</td>\n",
       "    </tr>\n",
       "    <tr>\n",
       "      <th>3</th>\n",
       "      <td>0</td>\n",
       "      <td>1</td>\n",
       "      <td>10499</td>\n",
       "      <td>0</td>\n",
       "      <td>0</td>\n",
       "      <td>0</td>\n",
       "      <td>0</td>\n",
       "      <td>0</td>\n",
       "      <td>0</td>\n",
       "      <td>1</td>\n",
       "      <td>...</td>\n",
       "      <td>1</td>\n",
       "      <td>0</td>\n",
       "      <td>0</td>\n",
       "      <td>1</td>\n",
       "      <td>0</td>\n",
       "      <td>0</td>\n",
       "      <td>1</td>\n",
       "      <td>0</td>\n",
       "      <td>0</td>\n",
       "      <td>1</td>\n",
       "    </tr>\n",
       "    <tr>\n",
       "      <th>4</th>\n",
       "      <td>0</td>\n",
       "      <td>0</td>\n",
       "      <td>5499</td>\n",
       "      <td>0</td>\n",
       "      <td>0</td>\n",
       "      <td>0</td>\n",
       "      <td>0</td>\n",
       "      <td>0</td>\n",
       "      <td>0</td>\n",
       "      <td>0</td>\n",
       "      <td>...</td>\n",
       "      <td>0</td>\n",
       "      <td>0</td>\n",
       "      <td>0</td>\n",
       "      <td>0</td>\n",
       "      <td>0</td>\n",
       "      <td>0</td>\n",
       "      <td>1</td>\n",
       "      <td>0</td>\n",
       "      <td>0</td>\n",
       "      <td>1</td>\n",
       "    </tr>\n",
       "  </tbody>\n",
       "</table>\n",
       "<p>5 rows × 34 columns</p>\n",
       "</div>"
      ],
      "text/plain": [
       "   LEVEL  EXPERIENCE  SALARY_AVG_TL  POSITION_CTO  POSITION_DATA SCIENTIST  POSITION_DATABASE ADMIN  POSITION_DEVOPS ENGINEER  POSITION_EMBEDDED SOFTWARE DEVELOPER  POSITION_FRONT-END DEVELOPER  POSITION_FULL STACK DEVELOPER  ...  COMPANY_Startup  COMPANY_Yazılım & Teknoloji  WORK_TYPE_Geçici Remote  WORK_TYPE_Hibrit  WORK_TYPE_Ofis  WORK_TYPE_Remote  CITY_yurt_ici  CURRENCY_£ - Sterlin  CURRENCY_€ - Euro  CURRENCY_₺ - Türk Lirası\n",
       "0      1           2          15499             0                        0                        0                         0                                     0                             0                              0  ...                1                            0                        0                 1               0                 0              1                     0                  0                         1\n",
       "1      0           0           8499             0                        0                        0                         0                                     0                             1                              0  ...                1                            0                        0                 1               0                 0              1                     0                  0                         1\n",
       "2      1           1          15499             0                        0                        0                         0                                     0                             0                              0  ...                0                            0                        0                 0               0                 1              1                     0                  0                         1\n",
       "3      0           1          10499             0                        0                        0                         0                                     0                             0                              1  ...                1                            0                        0                 1               0                 0              1                     0                  0                         1\n",
       "4      0           0           5499             0                        0                        0                         0                                     0                             0                              0  ...                0                            0                        0                 0               0                 0              1                     0                  0                         1\n",
       "\n",
       "[5 rows x 34 columns]"
      ]
     },
     "execution_count": 16,
     "metadata": {},
     "output_type": "execute_result"
    }
   ],
   "source": [
    "df.drop([\"Unnamed: 0\"], axis=1, inplace=True)\n",
    "df.head()"
   ]
  },
  {
   "cell_type": "code",
   "execution_count": 4,
   "id": "9797f7a8-a112-4c6b-a483-d037e42046bc",
   "metadata": {},
   "outputs": [],
   "source": [
    "#Verilerin dağılımının normal dağılım gösterip göstermediğini belirlemenin bir diğer yolu ortalama, mod ve medyan değerlerine bakmaktır. \n",
    "#Normal dağılımda bu değerler çakışıktır. Bu istatistikler birbirine yaklaştığı ölçüde dağılım normal dağılıma yaklaşır. \n",
    "#Birbirinden uzaklaştığı ölçüde dağılım çarpıklaşır."
   ]
  },
  {
   "cell_type": "code",
   "execution_count": 6,
   "id": "d85e08da-d42a-45f7-94c2-4cd77f7c70da",
   "metadata": {},
   "outputs": [
    {
     "data": {
      "text/plain": [
       "count      5026.000000\n",
       "mean      24195.556307\n",
       "std       29521.804670\n",
       "min        5499.000000\n",
       "25%       10499.000000\n",
       "50%       15499.000000\n",
       "75%       24499.000000\n",
       "max      236868.000000\n",
       "Name: SALARY_AVG_TL, dtype: float64"
      ]
     },
     "execution_count": 6,
     "metadata": {},
     "output_type": "execute_result"
    }
   ],
   "source": [
    "df[\"SALARY_AVG_TL\"].describe()"
   ]
  },
  {
   "cell_type": "code",
   "execution_count": 7,
   "id": "4bbca6f5-e842-42e4-b923-6536dba7aa12",
   "metadata": {},
   "outputs": [
    {
     "data": {
      "text/plain": [
       "24195.556307202547"
      ]
     },
     "execution_count": 7,
     "metadata": {},
     "output_type": "execute_result"
    }
   ],
   "source": [
    "df[\"SALARY_AVG_TL\"].mean()"
   ]
  },
  {
   "cell_type": "code",
   "execution_count": 8,
   "id": "9148b369-6533-4676-81e6-37a659cfc313",
   "metadata": {},
   "outputs": [
    {
     "data": {
      "text/plain": [
       "0    5499\n",
       "Name: SALARY_AVG_TL, dtype: int64"
      ]
     },
     "execution_count": 8,
     "metadata": {},
     "output_type": "execute_result"
    }
   ],
   "source": [
    "df[\"SALARY_AVG_TL\"].mode()"
   ]
  },
  {
   "cell_type": "code",
   "execution_count": 9,
   "id": "8742a39c-0277-4fd6-aef8-942fe5751dbd",
   "metadata": {},
   "outputs": [
    {
     "data": {
      "text/plain": [
       "15499.0"
      ]
     },
     "execution_count": 9,
     "metadata": {},
     "output_type": "execute_result"
    }
   ],
   "source": [
    "df[\"SALARY_AVG_TL\"].median()"
   ]
  },
  {
   "cell_type": "code",
   "execution_count": 10,
   "id": "2aca898f-ca2e-45e0-9f97-d1b92696852c",
   "metadata": {},
   "outputs": [],
   "source": [
    "#  mod < median <mean  oldugundan verimiz saga carpık"
   ]
  },
  {
   "cell_type": "code",
   "execution_count": 17,
   "id": "9ac1d1ac-e6d4-462b-b4de-22d5eabe5ca1",
   "metadata": {},
   "outputs": [],
   "source": [
    "#sayısal degiskenleri özetlemek icin fonk\n",
    "def num_summary(dataframe, numerical_col, plot=True):\n",
    "    quantiles = [0.05, 0.10, 0.20, 0.30, 0.40, 0.50, 0.60, 0.70, 0.80, 0.90, 0.95, 0.99]\n",
    "    print(dataframe[numerical_col].describe(quantiles).T)\n",
    "\n",
    "    if plot:\n",
    "        dataframe[numerical_col].hist(bins=20)\n",
    "        plt.xlabel(numerical_col)\n",
    "        plt.title(numerical_col)\n",
    "        plt.show(block=True)"
   ]
  },
  {
   "cell_type": "code",
   "execution_count": 18,
   "id": "c8cb6148-fe1d-49f6-befc-3c8a8fb20270",
   "metadata": {},
   "outputs": [
    {
     "name": "stdout",
     "output_type": "stream",
     "text": [
      "                count          mean          std     min      5%     10%     20%      30%      40%      50%      60%      70%      80%      90%      95%       99%       max\n",
      "SALARY_AVG_TL  5026.0  24195.556307  29521.80467  5499.0  5499.0  6499.0  9499.0  11499.0  13499.0  15499.0  18499.0  22499.0  27935.0  46565.0  68135.0  195605.0  236868.0\n"
     ]
    },
    {
     "data": {
      "image/png": "[encoded data removed]",
      "text/plain": [
       "<Figure size 640x480 with 1 Axes>"
      ]
     },
     "metadata": {},
     "output_type": "display_data"
    }
   ],
   "source": [
    "num_summary(df,[\"SALARY_AVG_TL\"])"
   ]
  },
  {
   "cell_type": "code",
   "execution_count": 23,
   "id": "1cf6e59e-f1bb-4a0b-8b2c-70dab93426d5",
   "metadata": {},
   "outputs": [
    {
     "data": {
      "image/png": "[encoded data removed]",
      "text/plain": [
       "<Figure size 640x480 with 1 Axes>"
      ]
     },
     "metadata": {},
     "output_type": "display_data"
    }
   ],
   "source": [
    "# Histogram plot parametreleri\n",
    "_, bins, _ = plt.hist(df[\"SALARY_AVG_TL\"], bins = 50,\n",
    "                      density = 1, alpha = 0.5,\n",
    "                      ec= 'black' )\n",
    "\n",
    "# Çan eğrisi için en uygun değerler\n",
    "mu, sigma = stats.norm.fit(df[\"SALARY_AVG_TL\"])\n",
    "best_fit_line = stats.norm.pdf(bins, mu, sigma)\n",
    "\n",
    "# Çan eğrisi gösterimi\n",
    "plt.plot(bins, best_fit_line, 'g-o')\n",
    "plt.xlabel(\"\")\n",
    "plt.ylabel(\"\")\n",
    "plt.show()"
   ]
  },
  {
   "cell_type": "code",
   "execution_count": 19,
   "id": "0f675213-fbde-4cb1-96e1-3ae1d1668068",
   "metadata": {},
   "outputs": [],
   "source": [
    "#grafik saga carpık "
   ]
  },
  {
   "cell_type": "code",
   "execution_count": null,
   "id": "a89cf15b-9210-4b2a-a406-22ca00f10750",
   "metadata": {},
   "outputs": [],
   "source": []
  },
  {
   "cell_type": "code",
   "execution_count": 24,
   "id": "f47124d1-31ea-45c5-ae13-6157b3c3d584",
   "metadata": {},
   "outputs": [],
   "source": [
    "#degiskenleri standartlaştırmadan önce çarpıklıga bakmamız gerek\n",
    "#SKEWNESS\n",
    "def check_skew(df_skew, column):\n",
    "    skew = stats.skew(df_skew[column])\n",
    "    skewtest = stats.skewtest(df_skew[column])\n",
    "    plt.title('Distribution of ' + column)\n",
    "    sns.distplot(df_skew[column],color = \"g\")\n",
    "    print(\"{}'s: Skew: {}, : {}\".format(column, skew, skewtest))\n",
    "    return\n"
   ]
  },
  {
   "cell_type": "code",
   "execution_count": 25,
   "id": "47d6ea55-8a0d-4775-b93f-1c1d7d080a2d",
   "metadata": {},
   "outputs": [
    {
     "name": "stdout",
     "output_type": "stream",
     "text": [
      "SALARY_AVG_TL's: Skew: 4.071523196748145, : SkewtestResult(statistic=54.7354247515767, pvalue=0.0)\n"
     ]
    },
    {
     "data": {
      "image/png": "[encoded data removed]",
      "text/plain": [
       "<Figure size 700x700 with 1 Axes>"
      ]
     },
     "metadata": {},
     "output_type": "display_data"
    }
   ],
   "source": [
    "plt.figure(figsize=(7, 7))\n",
    "\n",
    "check_skew(df,'SALARY_AVG_TL')\n",
    "plt.show()"
   ]
  },
  {
   "cell_type": "code",
   "execution_count": null,
   "id": "d77f2e5e-d165-4c2e-b5ac-39e6993588ff",
   "metadata": {},
   "outputs": [],
   "source": []
  }
 ],
 "metadata": {
  "kernelspec": {
   "display_name": "Python 3 (ipykernel)",
   "language": "python",
   "name": "python3"
  },
  "language_info": {
   "codemirror_mode": {
    "name": "ipython",
    "version": 3
   },
   "file_extension": ".py",
   "mimetype": "text/x-python",
   "name": "python",
   "nbconvert_exporter": "python",
   "pygments_lexer": "ipython3",
   "version": "3.9.12"
  }
 },
 "nbformat": 4,
 "nbformat_minor": 5
}
